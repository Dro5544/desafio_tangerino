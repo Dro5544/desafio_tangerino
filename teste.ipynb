{
 "cells": [
  {
   "cell_type": "code",
   "execution_count": null,
   "metadata": {},
   "outputs": [
    {
     "ename": "",
     "evalue": "",
     "output_type": "error",
     "traceback": [
      "\u001b[1;31mFailed to start the Kernel. \n",
      "\u001b[1;31mPermissionError: [WinError 5] Acesso negado: 'C:\\\\Users\\\\User\\\\.ipython\\\\profile_default\\\\security'. \n",
      "\u001b[1;31mView Jupyter <a href='command:jupyter.viewOutput'>log</a> for further details."
     ]
    }
   ],
   "source": [
    "import pandas as pd\n",
    "from sqlalchemy import create_engine\n",
    "\n",
    "db_url_src = 'sqlite:///tangerino.db'\n",
    "db_url_dsc = 'sqlite:///tangerino2.db'\n",
    "\n",
    "engine_src = create_engine(db_url_src)\n",
    "engine_dsc = create_engine(db_url_dsc)\n",
    "\n",
    "query_src = 'select * from t_ponto'\n",
    "\n",
    "df = pd.read_sql(query_src,engine_src)\n",
    "\n",
    "print(df.head())\n",
    "\n",
    "print()"
   ]
  },
  {
   "cell_type": "code",
   "execution_count": null,
   "metadata": {},
   "outputs": [],
   "source": []
  }
 ],
 "metadata": {
  "kernelspec": {
   "display_name": "venv",
   "language": "python",
   "name": "python3"
  },
  "language_info": {
   "name": "python",
   "version": "3.12.0"
  },
  "orig_nbformat": 4
 },
 "nbformat": 4,
 "nbformat_minor": 2
}
